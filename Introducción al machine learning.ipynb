{
 "cells": [
  {
   "cell_type": "markdown",
   "metadata": {},
   "source": [
    "# Machine Learning Megaline"
   ]
  },
  {
   "cell_type": "markdown",
   "metadata": {},
   "source": [
    "La compañía Megaline me pide desarrollar un modelo de prueba que analice el comportamiento de los clientes para luego recomendarles uno de los siguientes planes: Smart o Ultra \n",
    "\n",
    "Dentro del DataFrame vamos a encontrar los siguientes datos:\n",
    "- `сalls` — número de llamadas,\n",
    "- `minutes` — duración total de la llamada en minutos,\n",
    "- `messages` — número de mensajes de texto,\n",
    "- `mb_used` — Tráfico de Internet utilizado en MB,\n",
    "- `is_ultra` — plan para el mes actual (Ultra - 1, Smart - 0)."
   ]
  },
  {
   "cell_type": "markdown",
   "metadata": {},
   "source": [
    "Importar las librerias"
   ]
  },
  {
   "cell_type": "code",
   "execution_count": 1,
   "metadata": {},
   "outputs": [],
   "source": [
    "import pandas as pd\n",
    "import numpy as np\n",
    "import matplotlib.pyplot as plt\n",
    "import warnings\n",
    "from sklearn.model_selection import train_test_split\n",
    "from sklearn.tree import DecisionTreeClassifier\n",
    "from sklearn.model_selection import RandomizedSearchCV\n",
    "from scipy.stats import randint\n",
    "from sklearn.metrics import accuracy_score\n",
    "from sklearn.ensemble import RandomForestClassifier\n",
    "from sklearn.metrics import accuracy_score, make_scorer\n",
    "from scipy.stats import randint as sp_randint\n",
    "from sklearn.linear_model import LogisticRegression\n",
    "from sklearn.model_selection import GridSearchCV\n",
    "from sklearn.dummy import DummyClassifier\n",
    "from sklearn.metrics import classification_report\n",
    "from sklearn.metrics import confusion_matrix"
   ]
  },
  {
   "cell_type": "markdown",
   "metadata": {},
   "source": [
    "Cargar datos"
   ]
  },
  {
   "cell_type": "code",
   "execution_count": 2,
   "metadata": {},
   "outputs": [],
   "source": [
    "df = pd.read_csv('/datasets/users_behavior.csv')"
   ]
  },
  {
   "cell_type": "markdown",
   "metadata": {},
   "source": [
    "## Exploración de los datos"
   ]
  },
  {
   "cell_type": "markdown",
   "metadata": {},
   "source": [
    "Vamos a ver como se encuentran los datos del DataFrame"
   ]
  },
  {
   "cell_type": "code",
   "execution_count": 3,
   "metadata": {},
   "outputs": [
    {
     "data": {
      "text/html": [
       "<div>\n",
       "<style scoped>\n",
       "    .dataframe tbody tr th:only-of-type {\n",
       "        vertical-align: middle;\n",
       "    }\n",
       "\n",
       "    .dataframe tbody tr th {\n",
       "        vertical-align: top;\n",
       "    }\n",
       "\n",
       "    .dataframe thead th {\n",
       "        text-align: right;\n",
       "    }\n",
       "</style>\n",
       "<table border=\"1\" class=\"dataframe\">\n",
       "  <thead>\n",
       "    <tr style=\"text-align: right;\">\n",
       "      <th></th>\n",
       "      <th>calls</th>\n",
       "      <th>minutes</th>\n",
       "      <th>messages</th>\n",
       "      <th>mb_used</th>\n",
       "      <th>is_ultra</th>\n",
       "    </tr>\n",
       "  </thead>\n",
       "  <tbody>\n",
       "    <tr>\n",
       "      <th>0</th>\n",
       "      <td>40.0</td>\n",
       "      <td>311.90</td>\n",
       "      <td>83.0</td>\n",
       "      <td>19915.42</td>\n",
       "      <td>0</td>\n",
       "    </tr>\n",
       "    <tr>\n",
       "      <th>1</th>\n",
       "      <td>85.0</td>\n",
       "      <td>516.75</td>\n",
       "      <td>56.0</td>\n",
       "      <td>22696.96</td>\n",
       "      <td>0</td>\n",
       "    </tr>\n",
       "    <tr>\n",
       "      <th>2</th>\n",
       "      <td>77.0</td>\n",
       "      <td>467.66</td>\n",
       "      <td>86.0</td>\n",
       "      <td>21060.45</td>\n",
       "      <td>0</td>\n",
       "    </tr>\n",
       "    <tr>\n",
       "      <th>3</th>\n",
       "      <td>106.0</td>\n",
       "      <td>745.53</td>\n",
       "      <td>81.0</td>\n",
       "      <td>8437.39</td>\n",
       "      <td>1</td>\n",
       "    </tr>\n",
       "    <tr>\n",
       "      <th>4</th>\n",
       "      <td>66.0</td>\n",
       "      <td>418.74</td>\n",
       "      <td>1.0</td>\n",
       "      <td>14502.75</td>\n",
       "      <td>0</td>\n",
       "    </tr>\n",
       "    <tr>\n",
       "      <th>...</th>\n",
       "      <td>...</td>\n",
       "      <td>...</td>\n",
       "      <td>...</td>\n",
       "      <td>...</td>\n",
       "      <td>...</td>\n",
       "    </tr>\n",
       "    <tr>\n",
       "      <th>3209</th>\n",
       "      <td>122.0</td>\n",
       "      <td>910.98</td>\n",
       "      <td>20.0</td>\n",
       "      <td>35124.90</td>\n",
       "      <td>1</td>\n",
       "    </tr>\n",
       "    <tr>\n",
       "      <th>3210</th>\n",
       "      <td>25.0</td>\n",
       "      <td>190.36</td>\n",
       "      <td>0.0</td>\n",
       "      <td>3275.61</td>\n",
       "      <td>0</td>\n",
       "    </tr>\n",
       "    <tr>\n",
       "      <th>3211</th>\n",
       "      <td>97.0</td>\n",
       "      <td>634.44</td>\n",
       "      <td>70.0</td>\n",
       "      <td>13974.06</td>\n",
       "      <td>0</td>\n",
       "    </tr>\n",
       "    <tr>\n",
       "      <th>3212</th>\n",
       "      <td>64.0</td>\n",
       "      <td>462.32</td>\n",
       "      <td>90.0</td>\n",
       "      <td>31239.78</td>\n",
       "      <td>0</td>\n",
       "    </tr>\n",
       "    <tr>\n",
       "      <th>3213</th>\n",
       "      <td>80.0</td>\n",
       "      <td>566.09</td>\n",
       "      <td>6.0</td>\n",
       "      <td>29480.52</td>\n",
       "      <td>1</td>\n",
       "    </tr>\n",
       "  </tbody>\n",
       "</table>\n",
       "<p>3214 rows × 5 columns</p>\n",
       "</div>"
      ],
      "text/plain": [
       "      calls  minutes  messages   mb_used  is_ultra\n",
       "0      40.0   311.90      83.0  19915.42         0\n",
       "1      85.0   516.75      56.0  22696.96         0\n",
       "2      77.0   467.66      86.0  21060.45         0\n",
       "3     106.0   745.53      81.0   8437.39         1\n",
       "4      66.0   418.74       1.0  14502.75         0\n",
       "...     ...      ...       ...       ...       ...\n",
       "3209  122.0   910.98      20.0  35124.90         1\n",
       "3210   25.0   190.36       0.0   3275.61         0\n",
       "3211   97.0   634.44      70.0  13974.06         0\n",
       "3212   64.0   462.32      90.0  31239.78         0\n",
       "3213   80.0   566.09       6.0  29480.52         1\n",
       "\n",
       "[3214 rows x 5 columns]"
      ]
     },
     "execution_count": 3,
     "metadata": {},
     "output_type": "execute_result"
    }
   ],
   "source": [
    "df"
   ]
  },
  {
   "cell_type": "markdown",
   "metadata": {},
   "source": [
    "Quiero ver el Dtype de los datos para corroborar que se encuentren correctos"
   ]
  },
  {
   "cell_type": "code",
   "execution_count": 4,
   "metadata": {},
   "outputs": [
    {
     "name": "stdout",
     "output_type": "stream",
     "text": [
      "<class 'pandas.core.frame.DataFrame'>\n",
      "RangeIndex: 3214 entries, 0 to 3213\n",
      "Data columns (total 5 columns):\n",
      " #   Column    Non-Null Count  Dtype  \n",
      "---  ------    --------------  -----  \n",
      " 0   calls     3214 non-null   float64\n",
      " 1   minutes   3214 non-null   float64\n",
      " 2   messages  3214 non-null   float64\n",
      " 3   mb_used   3214 non-null   float64\n",
      " 4   is_ultra  3214 non-null   int64  \n",
      "dtypes: float64(4), int64(1)\n",
      "memory usage: 125.7 KB\n"
     ]
    }
   ],
   "source": [
    "df.info()"
   ]
  },
  {
   "cell_type": "markdown",
   "metadata": {},
   "source": [
    "Se ven correctos menos `is_ultra` deberia ser del tipo booleano, voy a corregirlo"
   ]
  },
  {
   "cell_type": "code",
   "execution_count": 5,
   "metadata": {},
   "outputs": [
    {
     "name": "stdout",
     "output_type": "stream",
     "text": [
      "<class 'pandas.core.frame.DataFrame'>\n",
      "RangeIndex: 3214 entries, 0 to 3213\n",
      "Data columns (total 5 columns):\n",
      " #   Column    Non-Null Count  Dtype  \n",
      "---  ------    --------------  -----  \n",
      " 0   calls     3214 non-null   float64\n",
      " 1   minutes   3214 non-null   float64\n",
      " 2   messages  3214 non-null   float64\n",
      " 3   mb_used   3214 non-null   float64\n",
      " 4   is_ultra  3214 non-null   bool   \n",
      "dtypes: bool(1), float64(4)\n",
      "memory usage: 103.7 KB\n"
     ]
    }
   ],
   "source": [
    "df['is_ultra'] = df['is_ultra'].astype('bool')\n",
    "df.info()"
   ]
  },
  {
   "cell_type": "markdown",
   "metadata": {},
   "source": [
    "Quedo todo bien ahora"
   ]
  },
  {
   "cell_type": "markdown",
   "metadata": {},
   "source": [
    "Buscamos si hay datos ausentes en el DataFrame"
   ]
  },
  {
   "cell_type": "code",
   "execution_count": 6,
   "metadata": {},
   "outputs": [
    {
     "data": {
      "text/plain": [
       "calls       0\n",
       "minutes     0\n",
       "messages    0\n",
       "mb_used     0\n",
       "is_ultra    0\n",
       "dtype: int64"
      ]
     },
     "execution_count": 6,
     "metadata": {},
     "output_type": "execute_result"
    }
   ],
   "source": [
    "df.isna().sum()"
   ]
  },
  {
   "cell_type": "markdown",
   "metadata": {},
   "source": [
    "No se encontraron datos ausentes que afecten el analisís"
   ]
  },
  {
   "cell_type": "markdown",
   "metadata": {},
   "source": [
    "## Visualización de los datos"
   ]
  },
  {
   "cell_type": "markdown",
   "metadata": {},
   "source": [
    "### Feature"
   ]
  },
  {
   "cell_type": "markdown",
   "metadata": {},
   "source": [
    "Visualicemos los datos un poco mejor, comencemos haciendo un histograma de las variables que voy a definir como `Feature`('calls', 'minutes', 'messages', 'mb_used')"
   ]
  },
  {
   "cell_type": "code",
   "execution_count": 7,
   "metadata": {
    "scrolled": false
   },
   "outputs": [
    {
     "data": {
      "image/png": "[encoded data removed]",
      "text/plain": [
       "<Figure size 720x576 with 4 Axes>"
      ]
     },
     "metadata": {
      "needs_background": "light"
     },
     "output_type": "display_data"
    }
   ],
   "source": [
    "df.hist(column=['calls', 'minutes', 'messages', 'mb_used'], figsize=(10,8))\n",
    "plt.show()"
   ]
  },
  {
   "cell_type": "markdown",
   "metadata": {},
   "source": [
    "De estos histogramas podemos ver las siguientes cosas:\n",
    "- La mayoria de los usuarios realizan 60 llamadas al mes aproximadamente\n",
    "- La media de los minutos utilizados al mes es de 300 a 500\n",
    "- Casi no se usan los mensajes de textos\n",
    "- Los datos usados tiene un promedio de entre 1500 a 2000 mb al mes"
   ]
  },
  {
   "cell_type": "markdown",
   "metadata": {},
   "source": [
    "### Target"
   ]
  },
  {
   "cell_type": "markdown",
   "metadata": {},
   "source": [
    "Ahora veamos como se comporta la variable `Target`('is_ultra')"
   ]
  },
  {
   "cell_type": "code",
   "execution_count": 8,
   "metadata": {},
   "outputs": [
    {
     "data": {
      "image/png": "[encoded data removed]",
      "text/plain": [
       "<Figure size 432x288 with 1 Axes>"
      ]
     },
     "metadata": {
      "needs_background": "light"
     },
     "output_type": "display_data"
    }
   ],
   "source": [
    "df['is_ultra'].value_counts().plot(kind='bar')\n",
    "plt.show()"
   ]
  },
  {
   "cell_type": "markdown",
   "metadata": {},
   "source": [
    "En este grafico vemos que 2/3 de los ususarios tienen el plan `Smart`(False) y 1/3 el plan `Ultra`(True)"
   ]
  },
  {
   "cell_type": "markdown",
   "metadata": {},
   "source": [
    "### Relación entre las variables"
   ]
  },
  {
   "cell_type": "markdown",
   "metadata": {},
   "source": [
    "Ahora grafico la relación entre `Feature` y `Target`"
   ]
  },
  {
   "cell_type": "code",
   "execution_count": 9,
   "metadata": {},
   "outputs": [
    {
     "data": {
      "image/png": "[encoded data removed]",
      "text/plain": [
       "<Figure size 1440x1080 with 4 Axes>"
      ]
     },
     "metadata": {
      "needs_background": "light"
     },
     "output_type": "display_data"
    }
   ],
   "source": [
    "fig, axs = plt.subplots(2, 2, figsize=(20, 15))\n",
    "\n",
    "df.boxplot(column='calls', by='is_ultra', ax=axs[0, 0])\n",
    "df.boxplot(column='minutes', by='is_ultra', ax=axs[0, 1])\n",
    "df.boxplot(column='messages', by='is_ultra', ax=axs[1, 0])\n",
    "df.boxplot(column='mb_used', by='is_ultra', ax=axs[1, 1])\n",
    "\n",
    "plt.show()"
   ]
  },
  {
   "cell_type": "markdown",
   "metadata": {},
   "source": [
    "Conclusiones de los boxplot:\n",
    "- Los usuarios de Ultra realizan mas llamadas que los de Smart.\n",
    "- Los minutos usuados para las llamadas son mayores en los usuarios de Ultra.\n",
    "- Los mensajes de texto enviados son casi el doble en Ultra que en Smart.\n",
    "- La mayoria de datos usados corresponden al plan Ultra."
   ]
  },
  {
   "cell_type": "markdown",
   "metadata": {},
   "source": [
    "## Segmentación de los datos"
   ]
  },
  {
   "cell_type": "markdown",
   "metadata": {},
   "source": [
    "Ahora voy a segmentar el DataFrame para entrenar a los modelos, la segmentación va a ser:\n",
    "- 60% datos para el entrenamiento\n",
    "- 20% datos de validación\n",
    "- 20% datos de prueba"
   ]
  },
  {
   "cell_type": "code",
   "execution_count": 10,
   "metadata": {},
   "outputs": [
    {
     "name": "stdout",
     "output_type": "stream",
     "text": [
      "Datos de entrenamiento: (1928, 5)\n",
      "Datos de validación: (643, 5)\n",
      "Datos de prueba: (643, 5)\n"
     ]
    }
   ],
   "source": [
    "# Se separan los datos en dos conjuntos: uno de entrenamiento y otro de prueba\n",
    "train_df, test_df = train_test_split(df, test_size=0.2, random_state=12345)\n",
    "\n",
    "# Se separa el conjunto de entrenamiento en dos conjuntos: uno de entrenamiento y otro de validación\n",
    "train_df, val_df = train_test_split(train_df, test_size=0.25, random_state=12345)\n",
    "\n",
    "# Se imprimen las dimensiones de los conjuntos resultantes\n",
    "print(f\"Datos de entrenamiento: {train_df.shape}\")\n",
    "print(f\"Datos de validación: {val_df.shape}\")\n",
    "print(f\"Datos de prueba: {test_df.shape}\")"
   ]
  },
  {
   "cell_type": "markdown",
   "metadata": {},
   "source": [
    "La segmentación fue correcta, ya que  los 1928 datos representan el 60% y los 643 el 20% de los datos para la validación y la prueba."
   ]
  },
  {
   "cell_type": "markdown",
   "metadata": {},
   "source": [
    "## Calidad de diferentes modelos"
   ]
  },
  {
   "cell_type": "markdown",
   "metadata": {},
   "source": [
    "Creare 3 modelos de aprendizaje diferentes para ver cual es el que tiene una mejor presición. Los modelos van a ser:\n",
    "- Árbol de Decisión\n",
    "- Bosque de Aleatorio\n",
    "- Regresión Logistica\n",
    "\n",
    "En cada uno de los casos voy a imprimir la precisión (acurracy) y los mejores hiperparametros para cada modelo"
   ]
  },
  {
   "cell_type": "markdown",
   "metadata": {},
   "source": [
    "### Árbol de decisión"
   ]
  },
  {
   "cell_type": "code",
   "execution_count": 11,
   "metadata": {},
   "outputs": [
    {
     "name": "stdout",
     "output_type": "stream",
     "text": [
      "Accuracy: 0.7309\n",
      "{'max_depth': 5, 'max_features': None, 'min_samples_leaf': 9, 'min_samples_split': 8}\n"
     ]
    }
   ],
   "source": [
    "# Defino el modelo a utilizar\n",
    "model = DecisionTreeClassifier(random_state=12345)\n",
    "\n",
    "# Ajusto el modelo con los datos de entrenamiento\n",
    "model.fit(train_df.drop(\"is_ultra\", axis=1), train_df[\"is_ultra\"])\n",
    "\n",
    "# Se realiza una predicción sobre los datos de prueba\n",
    "y_pred = model.predict(test_df.drop(\"is_ultra\", axis=1))\n",
    "\n",
    "# Se evalúa el desempeño del modelo utilizando la precisión\n",
    "accuracy = accuracy_score(test_df[\"is_ultra\"], y_pred)\n",
    "print(f\"Accuracy: {accuracy:.4f}\")\n",
    "\n",
    "# Definicion de la grilla de hiperparámetros a explorar\n",
    "params = {\n",
    "    \"max_depth\": randint(1, 20),\n",
    "    \"min_samples_split\": randint(2, 10),\n",
    "    \"min_samples_leaf\": randint(1, 10),\n",
    "    \"max_features\": [\"sqrt\", \"log2\", None]\n",
    "}\n",
    "\n",
    "# Se realiza la búsqueda aleatoria de hiperparámetros\n",
    "search = RandomizedSearchCV(model, params, n_iter=100, cv=5, random_state=12345)\n",
    "search.fit(train_df.drop(\"is_ultra\", axis=1), train_df[\"is_ultra\"])\n",
    "\n",
    "# Se imprime el mejor conjunto de hiperparámetros encontrado\n",
    "print(search.best_params_)"
   ]
  },
  {
   "cell_type": "markdown",
   "metadata": {},
   "source": [
    "### Bosque aleatorio"
   ]
  },
  {
   "cell_type": "code",
   "execution_count": 12,
   "metadata": {},
   "outputs": [
    {
     "name": "stdout",
     "output_type": "stream",
     "text": [
      "Accuracy: 0.7947\n",
      "{'max_depth': 10, 'min_samples_leaf': 9, 'min_samples_split': 2, 'n_estimators': 300}\n"
     ]
    }
   ],
   "source": [
    "# Definicion del modelo a utilizar\n",
    "model = RandomForestClassifier()\n",
    "\n",
    "# Definicion de los hiperparámetros a ajustar y los rangos de búsqueda\n",
    "param_dist = {\n",
    "    \"n_estimators\": [50, 100, 200, 300],\n",
    "    \"max_depth\": [None, 5, 10, 20],\n",
    "    \"min_samples_split\": sp_randint(2, 11),\n",
    "    \"min_samples_leaf\": sp_randint(1, 11),\n",
    "}\n",
    "\n",
    "# Se define la métrica de desempeño a utilizar\n",
    "scorer = make_scorer(accuracy_score)\n",
    "\n",
    "# Se realiza la búsqueda de hiperparámetros utilizando validación cruzada\n",
    "search = RandomizedSearchCV(\n",
    "    model,\n",
    "    param_distributions=param_dist,\n",
    "    n_iter=20,\n",
    "    cv=5,\n",
    "    scoring=scorer,\n",
    "    random_state=12345,\n",
    ")\n",
    "\n",
    "# Se ajusta el modelo con los mejores hiperparámetros encontrados\n",
    "search.fit(train_df.drop(\"is_ultra\", axis=1), train_df[\"is_ultra\"])\n",
    "\n",
    "# Se evalúa el modelo en el conjunto de prueba y cuales son los mejores parametros\n",
    "y_pred = search.predict(test_df.drop(\"is_ultra\", axis=1))\n",
    "accuracy = accuracy_score(test_df[\"is_ultra\"], y_pred)\n",
    "print(f\"Accuracy: {accuracy:.4f}\")\n",
    "print(search.best_params_)"
   ]
  },
  {
   "cell_type": "markdown",
   "metadata": {},
   "source": [
    "### Regresión Logistica"
   ]
  },
  {
   "cell_type": "code",
   "execution_count": 13,
   "metadata": {},
   "outputs": [
    {
     "name": "stdout",
     "output_type": "stream",
     "text": [
      "{'C': 10, 'penalty': 'l1', 'solver': 'liblinear'}\n",
      "Accuracy: 0.7605\n"
     ]
    }
   ],
   "source": [
    "# Aplico filtro para no ver los warnings\n",
    "warnings.filterwarnings('ignore')\n",
    "\n",
    "# Se separa el conjunto de datos en entrenamiento y prueba\n",
    "feature_train, feature_test, target_train, target_test = train_test_split(df.drop(\"is_ultra\", axis=1), df[\"is_ultra\"], test_size=0.2, random_state=12345)\n",
    "# Definicion del modelo a utilizar\n",
    "model = LogisticRegression(random_state=12345)\n",
    "\n",
    "# Definicion de la grilla de hiperparámetros a explorar\n",
    "params = {\n",
    "    'C': [0.1, 1, 10],\n",
    "    'penalty': ['l1', 'l2'],\n",
    "    'solver': ['liblinear', 'saga']\n",
    "}\n",
    "\n",
    "# Se realiza la búsqueda por cuadrícula de hiperparámetros\n",
    "search = GridSearchCV(model, params, cv=5, scoring='accuracy')\n",
    "search.fit(feature_train, target_train)\n",
    "\n",
    "# Se imprime el mejor conjunto de hiperparámetros encontrado\n",
    "print(search.best_params_)\n",
    "\n",
    "# Se hace la predicción sobre el conjunto de prueba\n",
    "target_pred = search.predict(feature_test)\n",
    "\n",
    "# Se calcula la precisión del modelo\n",
    "accuracy = accuracy_score(target_test, target_pred)\n",
    "\n",
    "# Se imprime la precisión del modelo\n",
    "print(f\"Accuracy: {accuracy:.4f}\")\n",
    "\n"
   ]
  },
  {
   "cell_type": "markdown",
   "metadata": {},
   "source": [
    "### Conclusiónes"
   ]
  },
  {
   "cell_type": "markdown",
   "metadata": {},
   "source": [
    "El mejor modelo para tomar deciciones es el del `bosque de decisión` ya que este tiene una presición del 79,78%, mientras que le sigue la `regresión logistica` con el 76,05% y por ultimo el `árbol de decisión` con el 73,09%"
   ]
  },
  {
   "cell_type": "markdown",
   "metadata": {},
   "source": [
    "## Comprobación de la calidad del modelo"
   ]
  },
  {
   "cell_type": "markdown",
   "metadata": {},
   "source": [
    "Voy a probar el modelo del bosque de decisión con los datos que separe para la prueba y ver como se comporta, si me da un valor parecido de la precisión del entrenamiento o no. Para ello voy a usar los hiperparametros que mejor se adecuan y que ya averigüe cuales son:\n",
    "- `max_depth`: 10\n",
    "- `min_samples_leaf`: 8\n",
    "- `min_samples_split`: 9\n",
    "- `n_estimators`: 300\n"
   ]
  },
  {
   "cell_type": "code",
   "execution_count": 14,
   "metadata": {},
   "outputs": [
    {
     "name": "stdout",
     "output_type": "stream",
     "text": [
      "Accuracy: 0.7512\n"
     ]
    }
   ],
   "source": [
    "# Definimos el modelo con los parámetros encontrados\n",
    "model = RandomForestClassifier(\n",
    "    max_depth=5,\n",
    "    max_features=None,\n",
    "    min_samples_leaf=9,\n",
    "    min_samples_split=8,\n",
    "    random_state=12345\n",
    ")\n",
    "\n",
    "# Ajustamos el modelo con los datos de prueba\n",
    "model.fit(feature_test, target_test)\n",
    "\n",
    "# Se ajusta el modelo con los mejores hiperparámetros encontrados\n",
    "search.fit(test_df.drop(\"is_ultra\", axis=1), test_df[\"is_ultra\"])\n",
    "\n",
    "# Se evalúa el modelo en el conjunto de prueba y cuales son los mejores parametros\n",
    "y_pred = search.predict(test_df.drop(\"is_ultra\", axis=1))\n",
    "accuracy = accuracy_score(test_df[\"is_ultra\"], y_pred)\n",
    "print(f\"Accuracy: {accuracy:.4f}\")"
   ]
  },
  {
   "cell_type": "markdown",
   "metadata": {},
   "source": [
    " La presición del modelo de prueba es del 75,12% es menor que la del modelo de entrenamiento que fue de 79,78%, pero es un nivel aceptable"
   ]
  },
  {
   "cell_type": "markdown",
   "metadata": {},
   "source": [
    "## Prueba de cordura"
   ]
  },
  {
   "cell_type": "markdown",
   "metadata": {},
   "source": [
    "### Dummy"
   ]
  },
  {
   "cell_type": "code",
   "execution_count": 21,
   "metadata": {},
   "outputs": [
    {
     "name": "stdout",
     "output_type": "stream",
     "text": [
      "Resultados del modelo Dummy\n",
      "              precision    recall  f1-score   support\n",
      "\n",
      "       False       0.70      1.00      0.82       447\n",
      "        True       0.00      0.00      0.00       196\n",
      "\n",
      "    accuracy                           0.70       643\n",
      "   macro avg       0.35      0.50      0.41       643\n",
      "weighted avg       0.48      0.70      0.57       643\n",
      "\n",
      "Resultados del modelo Bosque de Decisión\n",
      "              precision    recall  f1-score   support\n",
      "\n",
      "       False       0.80      0.94      0.86       447\n",
      "        True       0.76      0.46      0.58       196\n",
      "\n",
      "    accuracy                           0.79       643\n",
      "   macro avg       0.78      0.70      0.72       643\n",
      "weighted avg       0.79      0.79      0.77       643\n",
      "\n"
     ]
    }
   ],
   "source": [
    "# Definición del modelo Dummy\n",
    "dummy = DummyClassifier(strategy=\"most_frequent\")\n",
    "dummy.fit(train_df.drop(\"is_ultra\", axis=1), train_df[\"is_ultra\"])\n",
    "dummy_preds = dummy.predict(test_df.drop(\"is_ultra\", axis=1))\n",
    "\n",
    "# Evaluación del modelo Dummy\n",
    "print(\"Resultados del modelo Dummy\")\n",
    "print(classification_report(test_df[\"is_ultra\"], dummy_preds))\n",
    "\n",
    "# Definición del modelo Random Forest con los mejores parámetros encontrados\n",
    "model = RandomForestClassifier(\n",
    "    max_depth=5, max_features=None, min_samples_leaf=9, min_samples_split=8\n",
    ")\n",
    "\n",
    "# Entrenamiento del modelo\n",
    "model.fit(train_df.drop(\"is_ultra\", axis=1), train_df[\"is_ultra\"])\n",
    "\n",
    "# Predicción sobre el conjunto de prueba\n",
    "y_pred = model.predict(test_df.drop(\"is_ultra\", axis=1))\n",
    "\n",
    "# Evaluación del modelo\n",
    "print(\"Resultados del modelo Bosque de Decisión\")\n",
    "print(classification_report(test_df[\"is_ultra\"], y_pred))"
   ]
  },
  {
   "cell_type": "markdown",
   "metadata": {},
   "source": [
    "Podemos observar que la precisión del Dummy es del 70%, mientras que la de nuestro Bosque de Decisión es de 79%"
   ]
  },
  {
   "cell_type": "markdown",
   "metadata": {},
   "source": [
    "### Matrix de Confusión"
   ]
  },
  {
   "cell_type": "code",
   "execution_count": 20,
   "metadata": {},
   "outputs": [
    {
     "name": "stdout",
     "output_type": "stream",
     "text": [
      "[[447   0]\n",
      " [196   0]]\n",
      "[[417  30]\n",
      " [105  91]]\n"
     ]
    }
   ],
   "source": [
    "print(confusion_matrix(test_df[\"is_ultra\"], dummy_preds))\n",
    "print(confusion_matrix(test_df[\"is_ultra\"], y_pred))"
   ]
  },
  {
   "cell_type": "markdown",
   "metadata": {},
   "source": [
    "Cuando realizamos una matrix de confusión de los 2 modelos observamos que el modelo `Dummy` presenta 447 Verdaderos Positivos y 0 Falsos Positivos, por otro lado tambien hay 196 Falso Negativos y 0 Verdaderos Negativos, que no se vean verdaderos nagetivos es raro.\n",
    "\n",
    "Por el contrario nuestro modelo de `Bosque de Decisión` es mas acorde a un caso verdadero."
   ]
  },
  {
   "cell_type": "markdown",
   "metadata": {},
   "source": [
    "## Conclusión"
   ]
  },
  {
   "cell_type": "markdown",
   "metadata": {},
   "source": [
    "Del trabajo realizado se llego a las siguientes conclusiones:\n",
    "- De los 3 modelos que se realizaron el mejor de todos fue el `bosque de decisión` si bien es mas lento que los otros 2 su precisón fue casi un 4% mejor que la `regresión logistica` y un 7% que el `árbol de decisión`, si bien no parace mucho son 135 personas menos a las que se le recomendo un plan adecuado para ellas que puede llegar a representar perdidas para la compañia si es que se les asigno el plan mas bajo cuando debia ser el mas alto y este 7% es solo sobre 1928 personas, si en número fuera mayor también lo seria ese 7%.\n",
    "\n",
    "- Cuando se aplico los datos de prueba la precisión fue del 75%, un poco menor que en el entrenamiento (79%), pero se encuentra dentro del umbral requerido.\n",
    "\n",
    "- En la prueba de cordura, el modelo Dummy tuvo una presición menor que la de nuestro modelo, lo que indica que nuestro modelo elegido funciona mejor a la hora de analizar los comportamientos de los clientes y  recomendar los planes adecuados para ellos."
   ]
  }
 ],
 "metadata": {
  "kernelspec": {
   "display_name": "Python 3 (ipykernel)",
   "language": "python",
   "name": "python3"
  },
  "language_info": {
   "codemirror_mode": {
    "name": "ipython",
    "version": 3
   },
   "file_extension": ".py",
   "mimetype": "text/x-python",
   "name": "python",
   "nbconvert_exporter": "python",
   "pygments_lexer": "ipython3",
   "version": "3.9.13"
  },
  "toc": {
   "base_numbering": 1,
   "nav_menu": {},
   "number_sections": true,
   "sideBar": true,
   "skip_h1_title": true,
   "title_cell": "Table of Contents",
   "title_sidebar": "Contents",
   "toc_cell": false,
   "toc_position": {},
   "toc_section_display": true,
   "toc_window_display": false
  }
 },
 "nbformat": 4,
 "nbformat_minor": 2
}
